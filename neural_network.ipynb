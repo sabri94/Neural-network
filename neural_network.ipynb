{
  "nbformat": 4,
  "nbformat_minor": 0,
  "metadata": {
    "colab": {
      "name": "neural_network.ipynb",
      "provenance": []
    },
    "kernelspec": {
      "name": "python3",
      "display_name": "Python 3"
    },
    "language_info": {
      "name": "python"
    },
    "accelerator": "GPU"
  },
  "cells": [
    {
      "cell_type": "code",
      "execution_count": null,
      "metadata": {
        "id": "RVf946FoNl_c"
      },
      "outputs": [],
      "source": [
        "import numpy as np\n",
        "from tensorflow import keras\n",
        "from tensorflow.keras import layers\n",
        "import tensorflow as tf "
      ]
    },
    {
      "cell_type": "code",
      "source": [
        "# mnist = bdd contenant des caractères écris à la main\n",
        "\n",
        "(x_train, y_train), (x_test, y_test) = keras.datasets.mnist.load_data()"
      ],
      "metadata": {
        "colab": {
          "base_uri": "https://localhost:8080/"
        },
        "id": "aJc6e_0BN1qG",
        "outputId": "e4802feb-1798-4d90-8d52-61b684d60809"
      },
      "execution_count": null,
      "outputs": [
        {
          "output_type": "stream",
          "name": "stdout",
          "text": [
            "Downloading data from https://storage.googleapis.com/tensorflow/tf-keras-datasets/mnist.npz\n",
            "11493376/11490434 [==============================] - 0s 0us/step\n",
            "11501568/11490434 [==============================] - 0s 0us/step\n"
          ]
        }
      ]
    },
    {
      "cell_type": "code",
      "source": [
        "import matplotlib.pyplot as plt\n",
        "\n",
        "plt.imshow(x_test[0])"
      ],
      "metadata": {
        "colab": {
          "base_uri": "https://localhost:8080/",
          "height": 283
        },
        "id": "L-oL_Wh4Ofjc",
        "outputId": "c2ac392c-d7db-4243-c3f6-4f07ec8f0b9f"
      },
      "execution_count": null,
      "outputs": [
        {
          "output_type": "execute_result",
          "data": {
            "text/plain": [
              "<matplotlib.image.AxesImage at 0x7f8e6cdec890>"
            ]
          },
          "metadata": {},
          "execution_count": 3
        },
        {
          "output_type": "display_data",
          "data": {
            "text/plain": [
              "<Figure size 432x288 with 1 Axes>"
            ],
            "image/png": "[encoded data removed]"
          },
          "metadata": {
            "needs_background": "light"
          }
        }
      ]
    },
    {
      "cell_type": "markdown",
      "source": [
        "## Data preparation\n",
        "\n",
        "<p>Normaliser les données </p>\n",
        "<p>Faire en sorte que la dimension des données soit compatible avec l'entrée du modèle</p>\n",
        "<p>Catégorisation de la vérité terrain (y_train, y_test)</p>"
      ],
      "metadata": {
        "id": "eJwR08ntPXPq"
      }
    },
    {
      "cell_type": "code",
      "source": [
        "# Normalisation, float32 pour que ce soit compatible avec les méthodes de keras\n",
        "x_train = x_train.astype(\"float32\") / 255\n",
        "x_test = x_test.astype('float32') / 255"
      ],
      "metadata": {
        "id": "L1Y3howmPBBB"
      },
      "execution_count": null,
      "outputs": []
    },
    {
      "cell_type": "code",
      "source": [
        "# dimension compatible\n",
        "\n",
        "print(x_train.shape)\n",
        "print(x_test.shape)\n",
        "\n",
        "x_train = np.expand_dims(x_train, -1)\n",
        "x_test = np.expand_dims(x_test, -1)\n",
        "\n",
        "print(x_train.shape)\n",
        "print(x_test.shape)"
      ],
      "metadata": {
        "colab": {
          "base_uri": "https://localhost:8080/"
        },
        "id": "p--aX_s6QjaM",
        "outputId": "fda99664-d8a9-442e-e4f5-67d9796550ea"
      },
      "execution_count": null,
      "outputs": [
        {
          "output_type": "stream",
          "name": "stdout",
          "text": [
            "(60000, 28, 28)\n",
            "(10000, 28, 28)\n",
            "(60000, 28, 28, 1)\n",
            "(10000, 28, 28, 1)\n"
          ]
        }
      ]
    },
    {
      "cell_type": "code",
      "source": [
        "y_train = keras.utils.to_categorical(y_train, 10)\n",
        "y_test = keras.utils.to_categorical(y_test, 10)"
      ],
      "metadata": {
        "id": "JkFwIk1kR920"
      },
      "execution_count": null,
      "outputs": []
    },
    {
      "cell_type": "code",
      "source": [
        "# on a plus un nombre, on a une matrice avec un 1 sur la septieme valeur au lieu d'avoir un 7\n",
        "y_test[0]"
      ],
      "metadata": {
        "colab": {
          "base_uri": "https://localhost:8080/"
        },
        "id": "cAnMqITsSJ0T",
        "outputId": "ab3a466a-a2c3-45b0-c6fa-4693fee8c9a1"
      },
      "execution_count": null,
      "outputs": [
        {
          "output_type": "execute_result",
          "data": {
            "text/plain": [
              "array([0., 0., 0., 0., 0., 0., 0., 1., 0., 0.], dtype=float32)"
            ]
          },
          "metadata": {},
          "execution_count": 7
        }
      ]
    },
    {
      "cell_type": "markdown",
      "source": [
        "## Construction du modèle convolutif"
      ],
      "metadata": {
        "id": "8RT9OidkTsS7"
      }
    },
    {
      "cell_type": "code",
      "source": [
        "mnist_model = keras.Sequential(\n",
        "    [\n",
        "     # 28 car les images font 28*28 pixels, 1 car c'est en noir et blanc\n",
        "     keras.Input(shape = (28, 28, 1)),\n",
        "     layers.Conv2D(32, kernel_size=(3,3), activation=\"relu\"),\n",
        "     layers.MaxPool2D(pool_size=(2,2)),\n",
        "     # Destruction de 30% des neuronnes\n",
        "     layers.Dropout(0.3),\n",
        "     layers.Conv2D(64, kernel_size=(3,3), activation=\"relu\"),\n",
        "     layers.MaxPool2D(pool_size=(2,2)),\n",
        "     # flatten transforme matrice en vecteur\n",
        "     layers.Flatten(),\n",
        "     # softmax permet de donner plus d'importance aux probas proches de 1 et de 0\n",
        "     layers.Dense(10, activation=\"softmax\")\n",
        "    ]\n",
        ")\n",
        "mnist_model.summary()"
      ],
      "metadata": {
        "colab": {
          "base_uri": "https://localhost:8080/"
        },
        "id": "BKw14s6vTGya",
        "outputId": "42eb8453-2da3-47cb-8350-e04a1a6a3606"
      },
      "execution_count": null,
      "outputs": [
        {
          "output_type": "stream",
          "name": "stdout",
          "text": [
            "Model: \"sequential\"\n",
            "_________________________________________________________________\n",
            " Layer (type)                Output Shape              Param #   \n",
            "=================================================================\n",
            " conv2d (Conv2D)             (None, 26, 26, 32)        320       \n",
            "                                                                 \n",
            " max_pooling2d (MaxPooling2D  (None, 13, 13, 32)       0         \n",
            " )                                                               \n",
            "                                                                 \n",
            " dropout (Dropout)           (None, 13, 13, 32)        0         \n",
            "                                                                 \n",
            " conv2d_1 (Conv2D)           (None, 11, 11, 64)        18496     \n",
            "                                                                 \n",
            " max_pooling2d_1 (MaxPooling  (None, 5, 5, 64)         0         \n",
            " 2D)                                                             \n",
            "                                                                 \n",
            " flatten (Flatten)           (None, 1600)              0         \n",
            "                                                                 \n",
            " dense (Dense)               (None, 10)                16010     \n",
            "                                                                 \n",
            "=================================================================\n",
            "Total params: 34,826\n",
            "Trainable params: 34,826\n",
            "Non-trainable params: 0\n",
            "_________________________________________________________________\n"
          ]
        }
      ]
    },
    {
      "cell_type": "code",
      "source": [
        "# lr = learning rate\n",
        "\n",
        "def scheduler(epoch, lr):\n",
        "  if epoch == 0:\n",
        "    return lr \n",
        "  else:\n",
        "    new_lr = lr * tf.math.exp(-0.2)\n",
        "    return new_lr"
      ],
      "metadata": {
        "id": "pL9nhplhWVT-"
      },
      "execution_count": null,
      "outputs": []
    },
    {
      "cell_type": "markdown",
      "source": [
        "## Programmation des callbacks : permet d'adapter notre phase d'apprentissage"
      ],
      "metadata": {
        "id": "Bgb7sUyrYEg1"
      }
    },
    {
      "cell_type": "code",
      "source": [
        "learning_rate_scheduler = tf.keras.callbacks.LearningRateScheduler(scheduler) # réduction du learning rate au fur et a mesure\n",
        "early_stopping = tf.keras.callbacks.EarlyStopping(monitor=\"val_loss\", patience=3, restore_best_weights=True) # val_loss = loss (taux d'erreur) de la validation"
      ],
      "metadata": {
        "id": "I95NGrNwXatS"
      },
      "execution_count": null,
      "outputs": []
    },
    {
      "cell_type": "markdown",
      "source": [
        "## Entrainement du modèle"
      ],
      "metadata": {
        "id": "ls3noLswZeTC"
      }
    },
    {
      "cell_type": "code",
      "source": [
        "batch = 16\n",
        "epochs = 100 # on est pas censé atteindre 100 car il y a l'early stopping\n",
        "\n",
        "mnist_model.compile(loss=\"categorical_crossentropy\", optimizer=\"adam\", metrics=[\"accuracy\"])"
      ],
      "metadata": {
        "id": "4qfFz72bv2bu"
      },
      "execution_count": null,
      "outputs": []
    },
    {
      "cell_type": "code",
      "source": [
        "history = mnist_model.fit(x_train, y_train, batch_size=batch, callbacks = [learning_rate_scheduler, early_stopping], epochs=epochs, validation_split=0.15)"
      ],
      "metadata": {
        "colab": {
          "base_uri": "https://localhost:8080/"
        },
        "id": "R93TzpQpx1Cd",
        "outputId": "9ab492ea-f886-4494-8e6e-d2d2e1405726"
      },
      "execution_count": null,
      "outputs": [
        {
          "output_type": "stream",
          "name": "stdout",
          "text": [
            "Epoch 1/100\n",
            "3188/3188 [==============================] - 30s 6ms/step - loss: 0.1652 - accuracy: 0.9490 - val_loss: 0.0671 - val_accuracy: 0.9813 - lr: 0.0010\n",
            "Epoch 2/100\n",
            "3188/3188 [==============================] - 17s 5ms/step - loss: 0.0568 - accuracy: 0.9819 - val_loss: 0.0483 - val_accuracy: 0.9863 - lr: 8.1873e-04\n",
            "Epoch 3/100\n",
            "3188/3188 [==============================] - 17s 5ms/step - loss: 0.0404 - accuracy: 0.9875 - val_loss: 0.0403 - val_accuracy: 0.9894 - lr: 6.7032e-04\n",
            "Epoch 4/100\n",
            "3188/3188 [==============================] - 17s 5ms/step - loss: 0.0319 - accuracy: 0.9899 - val_loss: 0.0369 - val_accuracy: 0.9897 - lr: 5.4881e-04\n",
            "Epoch 5/100\n",
            "3188/3188 [==============================] - 19s 6ms/step - loss: 0.0259 - accuracy: 0.9915 - val_loss: 0.0351 - val_accuracy: 0.9903 - lr: 4.4933e-04\n",
            "Epoch 6/100\n",
            "3188/3188 [==============================] - 18s 6ms/step - loss: 0.0201 - accuracy: 0.9937 - val_loss: 0.0337 - val_accuracy: 0.9911 - lr: 3.6788e-04\n",
            "Epoch 7/100\n",
            "3188/3188 [==============================] - 18s 6ms/step - loss: 0.0169 - accuracy: 0.9948 - val_loss: 0.0323 - val_accuracy: 0.9920 - lr: 3.0119e-04\n",
            "Epoch 8/100\n",
            "3188/3188 [==============================] - 17s 5ms/step - loss: 0.0149 - accuracy: 0.9949 - val_loss: 0.0354 - val_accuracy: 0.9902 - lr: 2.4660e-04\n",
            "Epoch 9/100\n",
            "3188/3188 [==============================] - 18s 6ms/step - loss: 0.0120 - accuracy: 0.9961 - val_loss: 0.0346 - val_accuracy: 0.9914 - lr: 2.0190e-04\n",
            "Epoch 10/100\n",
            "3188/3188 [==============================] - 17s 5ms/step - loss: 0.0108 - accuracy: 0.9963 - val_loss: 0.0358 - val_accuracy: 0.9906 - lr: 1.6530e-04\n"
          ]
        }
      ]
    },
    {
      "cell_type": "code",
      "source": [
        "plt.plot(history.history[\"loss\"], label=\"Training loss\")\n",
        "plt.plot(history.history[\"val_loss\"], label=\"Validation loss\")\n",
        "plt.show()"
      ],
      "metadata": {
        "colab": {
          "base_uri": "https://localhost:8080/",
          "height": 265
        },
        "id": "gDwK_xcFyohG",
        "outputId": "c3213fad-7681-4ecf-ee0d-4d3931164059"
      },
      "execution_count": null,
      "outputs": [
        {
          "output_type": "display_data",
          "data": {
            "text/plain": [
              "<Figure size 432x288 with 1 Axes>"
            ],
            "image/png": "[encoded data removed]"
          },
          "metadata": {
            "needs_background": "light"
          }
        }
      ]
    },
    {
      "cell_type": "code",
      "source": [
        "score = mnist_model.evaluate(x_test, y_test, verbose=0)\n",
        "print(f\"Test loss : {score[0]}\")\n",
        "print(f\"Test accuracy : {score[1]}\")"
      ],
      "metadata": {
        "colab": {
          "base_uri": "https://localhost:8080/"
        },
        "id": "DjnhsoRP1_4v",
        "outputId": "183539f1-efc2-4f9e-abbd-ac0b2294a018"
      },
      "execution_count": null,
      "outputs": [
        {
          "output_type": "stream",
          "name": "stdout",
          "text": [
            "Test loss : 0.027575179934501648\n",
            "Test accuracy : 0.9905999898910522\n"
          ]
        }
      ]
    },
    {
      "cell_type": "code",
      "source": [
        "(_, _), (x_test1, y_test1) = keras.datasets.mnist.load_data()\n",
        "plt.imshow(x_test1[0])\n",
        "plt.show()"
      ],
      "metadata": {
        "colab": {
          "base_uri": "https://localhost:8080/",
          "height": 265
        },
        "id": "7cFv7sid2g9_",
        "outputId": "5e1ded14-6175-43da-aa5c-0a3920076b5d"
      },
      "execution_count": null,
      "outputs": [
        {
          "output_type": "display_data",
          "data": {
            "text/plain": [
              "<Figure size 432x288 with 1 Axes>"
            ],
            "image/png": "[encoded data removed]"
          },
          "metadata": {
            "needs_background": "light"
          }
        }
      ]
    },
    {
      "cell_type": "code",
      "source": [
        "prediction = mnist_model.predict(x_test[np.newaxis, 1])\n",
        "print(prediction)\n",
        "print(y_test[1])"
      ],
      "metadata": {
        "colab": {
          "base_uri": "https://localhost:8080/"
        },
        "id": "SOsBPbe131_n",
        "outputId": "69c9b18e-4e51-482a-d952-daf1e1f2a893"
      },
      "execution_count": null,
      "outputs": [
        {
          "output_type": "stream",
          "name": "stdout",
          "text": [
            "[[2.4767735e-09 4.4854970e-10 9.9999988e-01 2.4624761e-14 2.1944959e-17\n",
            "  1.3922251e-20 6.8322329e-08 2.1623403e-14 2.6770747e-10 3.3404673e-17]]\n",
            "[0. 0. 1. 0. 0. 0. 0. 0. 0. 0.]\n"
          ]
        }
      ]
    },
    {
      "cell_type": "code",
      "source": [
        "history2 = mnist_model.fit(x_train, y_train, batch_size=batch, epochs=epochs, validation_split=0.15)\n",
        "\n",
        "# Sans le scheduler et l'early stopping on remarque qu'il y a un overfitting avec la val loss qui augmente et la train loss qui diminue"
      ],
      "metadata": {
        "colab": {
          "base_uri": "https://localhost:8080/",
          "height": 867
        },
        "id": "fWCPTY-w5n0s",
        "outputId": "060f10e6-3823-4b24-86ed-b958a0f41706"
      },
      "execution_count": null,
      "outputs": [
        {
          "output_type": "stream",
          "name": "stdout",
          "text": [
            "Epoch 1/100\n",
            "3188/3188 [==============================] - 17s 5ms/step - loss: 0.0130 - accuracy: 0.9959 - val_loss: 0.0351 - val_accuracy: 0.9909\n",
            "Epoch 2/100\n",
            "3188/3188 [==============================] - 17s 5ms/step - loss: 0.0121 - accuracy: 0.9961 - val_loss: 0.0361 - val_accuracy: 0.9916\n",
            "Epoch 3/100\n",
            "3188/3188 [==============================] - 18s 6ms/step - loss: 0.0110 - accuracy: 0.9967 - val_loss: 0.0364 - val_accuracy: 0.9910\n",
            "Epoch 4/100\n",
            "3188/3188 [==============================] - 18s 6ms/step - loss: 0.0110 - accuracy: 0.9966 - val_loss: 0.0352 - val_accuracy: 0.9912\n",
            "Epoch 5/100\n",
            "3188/3188 [==============================] - 19s 6ms/step - loss: 0.0094 - accuracy: 0.9971 - val_loss: 0.0362 - val_accuracy: 0.9914\n",
            "Epoch 6/100\n",
            "3188/3188 [==============================] - 17s 5ms/step - loss: 0.0089 - accuracy: 0.9971 - val_loss: 0.0387 - val_accuracy: 0.9904\n",
            "Epoch 7/100\n",
            "3188/3188 [==============================] - 18s 6ms/step - loss: 0.0092 - accuracy: 0.9971 - val_loss: 0.0374 - val_accuracy: 0.9906\n",
            "Epoch 8/100\n",
            "3188/3188 [==============================] - 17s 5ms/step - loss: 0.0083 - accuracy: 0.9973 - val_loss: 0.0386 - val_accuracy: 0.9906\n",
            "Epoch 9/100\n",
            "3188/3188 [==============================] - 18s 6ms/step - loss: 0.0072 - accuracy: 0.9976 - val_loss: 0.0406 - val_accuracy: 0.9901\n",
            "Epoch 10/100\n",
            "3188/3188 [==============================] - 20s 6ms/step - loss: 0.0072 - accuracy: 0.9977 - val_loss: 0.0367 - val_accuracy: 0.9912\n",
            "Epoch 11/100\n",
            "3188/3188 [==============================] - 20s 6ms/step - loss: 0.0066 - accuracy: 0.9979 - val_loss: 0.0366 - val_accuracy: 0.9909\n",
            "Epoch 12/100\n",
            "3188/3188 [==============================] - 18s 6ms/step - loss: 0.0066 - accuracy: 0.9978 - val_loss: 0.0372 - val_accuracy: 0.9909\n",
            "Epoch 13/100\n",
            "3188/3188 [==============================] - 20s 6ms/step - loss: 0.0056 - accuracy: 0.9985 - val_loss: 0.0380 - val_accuracy: 0.9910\n",
            "Epoch 14/100\n",
            "3188/3188 [==============================] - 18s 6ms/step - loss: 0.0059 - accuracy: 0.9981 - val_loss: 0.0386 - val_accuracy: 0.9913\n",
            "Epoch 15/100\n",
            "3188/3188 [==============================] - 18s 6ms/step - loss: 0.0059 - accuracy: 0.9981 - val_loss: 0.0409 - val_accuracy: 0.9913\n",
            "Epoch 16/100\n",
            " 681/3188 [=====>........................] - ETA: 12s - loss: 0.0034 - accuracy: 0.9990"
          ]
        },
        {
          "output_type": "error",
          "ename": "KeyboardInterrupt",
          "evalue": "ignored",
          "traceback": [
            "\u001b[0;31m---------------------------------------------------------------------------\u001b[0m",
            "\u001b[0;31mKeyboardInterrupt\u001b[0m                         Traceback (most recent call last)",
            "\u001b[0;32m<ipython-input-23-9bf04bc14dcc>\u001b[0m in \u001b[0;36m<module>\u001b[0;34m()\u001b[0m\n\u001b[0;32m----> 1\u001b[0;31m \u001b[0mhistory2\u001b[0m \u001b[0;34m=\u001b[0m \u001b[0mmnist_model\u001b[0m\u001b[0;34m.\u001b[0m\u001b[0mfit\u001b[0m\u001b[0;34m(\u001b[0m\u001b[0mx_train\u001b[0m\u001b[0;34m,\u001b[0m \u001b[0my_train\u001b[0m\u001b[0;34m,\u001b[0m \u001b[0mbatch_size\u001b[0m\u001b[0;34m=\u001b[0m\u001b[0mbatch\u001b[0m\u001b[0;34m,\u001b[0m \u001b[0mepochs\u001b[0m\u001b[0;34m=\u001b[0m\u001b[0mepochs\u001b[0m\u001b[0;34m,\u001b[0m \u001b[0mvalidation_split\u001b[0m\u001b[0;34m=\u001b[0m\u001b[0;36m0.15\u001b[0m\u001b[0;34m)\u001b[0m\u001b[0;34m\u001b[0m\u001b[0;34m\u001b[0m\u001b[0m\n\u001b[0m",
            "\u001b[0;32m/usr/local/lib/python3.7/dist-packages/keras/utils/traceback_utils.py\u001b[0m in \u001b[0;36merror_handler\u001b[0;34m(*args, **kwargs)\u001b[0m\n\u001b[1;32m     62\u001b[0m     \u001b[0mfiltered_tb\u001b[0m \u001b[0;34m=\u001b[0m \u001b[0;32mNone\u001b[0m\u001b[0;34m\u001b[0m\u001b[0;34m\u001b[0m\u001b[0m\n\u001b[1;32m     63\u001b[0m     \u001b[0;32mtry\u001b[0m\u001b[0;34m:\u001b[0m\u001b[0;34m\u001b[0m\u001b[0;34m\u001b[0m\u001b[0m\n\u001b[0;32m---> 64\u001b[0;31m       \u001b[0;32mreturn\u001b[0m \u001b[0mfn\u001b[0m\u001b[0;34m(\u001b[0m\u001b[0;34m*\u001b[0m\u001b[0margs\u001b[0m\u001b[0;34m,\u001b[0m \u001b[0;34m**\u001b[0m\u001b[0mkwargs\u001b[0m\u001b[0;34m)\u001b[0m\u001b[0;34m\u001b[0m\u001b[0;34m\u001b[0m\u001b[0m\n\u001b[0m\u001b[1;32m     65\u001b[0m     \u001b[0;32mexcept\u001b[0m \u001b[0mException\u001b[0m \u001b[0;32mas\u001b[0m \u001b[0me\u001b[0m\u001b[0;34m:\u001b[0m  \u001b[0;31m# pylint: disable=broad-except\u001b[0m\u001b[0;34m\u001b[0m\u001b[0;34m\u001b[0m\u001b[0m\n\u001b[1;32m     66\u001b[0m       \u001b[0mfiltered_tb\u001b[0m \u001b[0;34m=\u001b[0m \u001b[0m_process_traceback_frames\u001b[0m\u001b[0;34m(\u001b[0m\u001b[0me\u001b[0m\u001b[0;34m.\u001b[0m\u001b[0m__traceback__\u001b[0m\u001b[0;34m)\u001b[0m\u001b[0;34m\u001b[0m\u001b[0;34m\u001b[0m\u001b[0m\n",
            "\u001b[0;32m/usr/local/lib/python3.7/dist-packages/keras/engine/training.py\u001b[0m in \u001b[0;36mfit\u001b[0;34m(self, x, y, batch_size, epochs, verbose, callbacks, validation_split, validation_data, shuffle, class_weight, sample_weight, initial_epoch, steps_per_epoch, validation_steps, validation_batch_size, validation_freq, max_queue_size, workers, use_multiprocessing)\u001b[0m\n\u001b[1;32m   1382\u001b[0m                 _r=1):\n\u001b[1;32m   1383\u001b[0m               \u001b[0mcallbacks\u001b[0m\u001b[0;34m.\u001b[0m\u001b[0mon_train_batch_begin\u001b[0m\u001b[0;34m(\u001b[0m\u001b[0mstep\u001b[0m\u001b[0;34m)\u001b[0m\u001b[0;34m\u001b[0m\u001b[0;34m\u001b[0m\u001b[0m\n\u001b[0;32m-> 1384\u001b[0;31m               \u001b[0mtmp_logs\u001b[0m \u001b[0;34m=\u001b[0m \u001b[0mself\u001b[0m\u001b[0;34m.\u001b[0m\u001b[0mtrain_function\u001b[0m\u001b[0;34m(\u001b[0m\u001b[0miterator\u001b[0m\u001b[0;34m)\u001b[0m\u001b[0;34m\u001b[0m\u001b[0;34m\u001b[0m\u001b[0m\n\u001b[0m\u001b[1;32m   1385\u001b[0m               \u001b[0;32mif\u001b[0m \u001b[0mdata_handler\u001b[0m\u001b[0;34m.\u001b[0m\u001b[0mshould_sync\u001b[0m\u001b[0;34m:\u001b[0m\u001b[0;34m\u001b[0m\u001b[0;34m\u001b[0m\u001b[0m\n\u001b[1;32m   1386\u001b[0m                 \u001b[0mcontext\u001b[0m\u001b[0;34m.\u001b[0m\u001b[0masync_wait\u001b[0m\u001b[0;34m(\u001b[0m\u001b[0;34m)\u001b[0m\u001b[0;34m\u001b[0m\u001b[0;34m\u001b[0m\u001b[0m\n",
            "\u001b[0;32m/usr/local/lib/python3.7/dist-packages/tensorflow/python/util/traceback_utils.py\u001b[0m in \u001b[0;36merror_handler\u001b[0;34m(*args, **kwargs)\u001b[0m\n\u001b[1;32m    148\u001b[0m     \u001b[0mfiltered_tb\u001b[0m \u001b[0;34m=\u001b[0m \u001b[0;32mNone\u001b[0m\u001b[0;34m\u001b[0m\u001b[0;34m\u001b[0m\u001b[0m\n\u001b[1;32m    149\u001b[0m     \u001b[0;32mtry\u001b[0m\u001b[0;34m:\u001b[0m\u001b[0;34m\u001b[0m\u001b[0;34m\u001b[0m\u001b[0m\n\u001b[0;32m--> 150\u001b[0;31m       \u001b[0;32mreturn\u001b[0m \u001b[0mfn\u001b[0m\u001b[0;34m(\u001b[0m\u001b[0;34m*\u001b[0m\u001b[0margs\u001b[0m\u001b[0;34m,\u001b[0m \u001b[0;34m**\u001b[0m\u001b[0mkwargs\u001b[0m\u001b[0;34m)\u001b[0m\u001b[0;34m\u001b[0m\u001b[0;34m\u001b[0m\u001b[0m\n\u001b[0m\u001b[1;32m    151\u001b[0m     \u001b[0;32mexcept\u001b[0m \u001b[0mException\u001b[0m \u001b[0;32mas\u001b[0m \u001b[0me\u001b[0m\u001b[0;34m:\u001b[0m\u001b[0;34m\u001b[0m\u001b[0;34m\u001b[0m\u001b[0m\n\u001b[1;32m    152\u001b[0m       \u001b[0mfiltered_tb\u001b[0m \u001b[0;34m=\u001b[0m \u001b[0m_process_traceback_frames\u001b[0m\u001b[0;34m(\u001b[0m\u001b[0me\u001b[0m\u001b[0;34m.\u001b[0m\u001b[0m__traceback__\u001b[0m\u001b[0;34m)\u001b[0m\u001b[0;34m\u001b[0m\u001b[0;34m\u001b[0m\u001b[0m\n",
            "\u001b[0;32m/usr/local/lib/python3.7/dist-packages/tensorflow/python/eager/def_function.py\u001b[0m in \u001b[0;36m__call__\u001b[0;34m(self, *args, **kwds)\u001b[0m\n\u001b[1;32m    913\u001b[0m \u001b[0;34m\u001b[0m\u001b[0m\n\u001b[1;32m    914\u001b[0m       \u001b[0;32mwith\u001b[0m \u001b[0mOptionalXlaContext\u001b[0m\u001b[0;34m(\u001b[0m\u001b[0mself\u001b[0m\u001b[0;34m.\u001b[0m\u001b[0m_jit_compile\u001b[0m\u001b[0;34m)\u001b[0m\u001b[0;34m:\u001b[0m\u001b[0;34m\u001b[0m\u001b[0;34m\u001b[0m\u001b[0m\n\u001b[0;32m--> 915\u001b[0;31m         \u001b[0mresult\u001b[0m \u001b[0;34m=\u001b[0m \u001b[0mself\u001b[0m\u001b[0;34m.\u001b[0m\u001b[0m_call\u001b[0m\u001b[0;34m(\u001b[0m\u001b[0;34m*\u001b[0m\u001b[0margs\u001b[0m\u001b[0;34m,\u001b[0m \u001b[0;34m**\u001b[0m\u001b[0mkwds\u001b[0m\u001b[0;34m)\u001b[0m\u001b[0;34m\u001b[0m\u001b[0;34m\u001b[0m\u001b[0m\n\u001b[0m\u001b[1;32m    916\u001b[0m \u001b[0;34m\u001b[0m\u001b[0m\n\u001b[1;32m    917\u001b[0m       \u001b[0mnew_tracing_count\u001b[0m \u001b[0;34m=\u001b[0m \u001b[0mself\u001b[0m\u001b[0;34m.\u001b[0m\u001b[0mexperimental_get_tracing_count\u001b[0m\u001b[0;34m(\u001b[0m\u001b[0;34m)\u001b[0m\u001b[0;34m\u001b[0m\u001b[0;34m\u001b[0m\u001b[0m\n",
            "\u001b[0;32m/usr/local/lib/python3.7/dist-packages/tensorflow/python/eager/def_function.py\u001b[0m in \u001b[0;36m_call\u001b[0;34m(self, *args, **kwds)\u001b[0m\n\u001b[1;32m    945\u001b[0m       \u001b[0;31m# In this case we have created variables on the first call, so we run the\u001b[0m\u001b[0;34m\u001b[0m\u001b[0;34m\u001b[0m\u001b[0;34m\u001b[0m\u001b[0m\n\u001b[1;32m    946\u001b[0m       \u001b[0;31m# defunned version which is guaranteed to never create variables.\u001b[0m\u001b[0;34m\u001b[0m\u001b[0;34m\u001b[0m\u001b[0;34m\u001b[0m\u001b[0m\n\u001b[0;32m--> 947\u001b[0;31m       \u001b[0;32mreturn\u001b[0m \u001b[0mself\u001b[0m\u001b[0;34m.\u001b[0m\u001b[0m_stateless_fn\u001b[0m\u001b[0;34m(\u001b[0m\u001b[0;34m*\u001b[0m\u001b[0margs\u001b[0m\u001b[0;34m,\u001b[0m \u001b[0;34m**\u001b[0m\u001b[0mkwds\u001b[0m\u001b[0;34m)\u001b[0m  \u001b[0;31m# pylint: disable=not-callable\u001b[0m\u001b[0;34m\u001b[0m\u001b[0;34m\u001b[0m\u001b[0m\n\u001b[0m\u001b[1;32m    948\u001b[0m     \u001b[0;32melif\u001b[0m \u001b[0mself\u001b[0m\u001b[0;34m.\u001b[0m\u001b[0m_stateful_fn\u001b[0m \u001b[0;32mis\u001b[0m \u001b[0;32mnot\u001b[0m \u001b[0;32mNone\u001b[0m\u001b[0;34m:\u001b[0m\u001b[0;34m\u001b[0m\u001b[0;34m\u001b[0m\u001b[0m\n\u001b[1;32m    949\u001b[0m       \u001b[0;31m# Release the lock early so that multiple threads can perform the call\u001b[0m\u001b[0;34m\u001b[0m\u001b[0;34m\u001b[0m\u001b[0;34m\u001b[0m\u001b[0m\n",
            "\u001b[0;32m/usr/local/lib/python3.7/dist-packages/tensorflow/python/eager/function.py\u001b[0m in \u001b[0;36m__call__\u001b[0;34m(self, *args, **kwargs)\u001b[0m\n\u001b[1;32m   2955\u001b[0m        filtered_flat_args) = self._maybe_define_function(args, kwargs)\n\u001b[1;32m   2956\u001b[0m     return graph_function._call_flat(\n\u001b[0;32m-> 2957\u001b[0;31m         filtered_flat_args, captured_inputs=graph_function.captured_inputs)  # pylint: disable=protected-access\n\u001b[0m\u001b[1;32m   2958\u001b[0m \u001b[0;34m\u001b[0m\u001b[0m\n\u001b[1;32m   2959\u001b[0m   \u001b[0;34m@\u001b[0m\u001b[0mproperty\u001b[0m\u001b[0;34m\u001b[0m\u001b[0;34m\u001b[0m\u001b[0m\n",
            "\u001b[0;32m/usr/local/lib/python3.7/dist-packages/tensorflow/python/eager/function.py\u001b[0m in \u001b[0;36m_call_flat\u001b[0;34m(self, args, captured_inputs, cancellation_manager)\u001b[0m\n\u001b[1;32m   1852\u001b[0m       \u001b[0;31m# No tape is watching; skip to running the function.\u001b[0m\u001b[0;34m\u001b[0m\u001b[0;34m\u001b[0m\u001b[0;34m\u001b[0m\u001b[0m\n\u001b[1;32m   1853\u001b[0m       return self._build_call_outputs(self._inference_function.call(\n\u001b[0;32m-> 1854\u001b[0;31m           ctx, args, cancellation_manager=cancellation_manager))\n\u001b[0m\u001b[1;32m   1855\u001b[0m     forward_backward = self._select_forward_and_backward_functions(\n\u001b[1;32m   1856\u001b[0m         \u001b[0margs\u001b[0m\u001b[0;34m,\u001b[0m\u001b[0;34m\u001b[0m\u001b[0;34m\u001b[0m\u001b[0m\n",
            "\u001b[0;32m/usr/local/lib/python3.7/dist-packages/tensorflow/python/eager/function.py\u001b[0m in \u001b[0;36mcall\u001b[0;34m(self, ctx, args, cancellation_manager)\u001b[0m\n\u001b[1;32m    502\u001b[0m               \u001b[0minputs\u001b[0m\u001b[0;34m=\u001b[0m\u001b[0margs\u001b[0m\u001b[0;34m,\u001b[0m\u001b[0;34m\u001b[0m\u001b[0;34m\u001b[0m\u001b[0m\n\u001b[1;32m    503\u001b[0m               \u001b[0mattrs\u001b[0m\u001b[0;34m=\u001b[0m\u001b[0mattrs\u001b[0m\u001b[0;34m,\u001b[0m\u001b[0;34m\u001b[0m\u001b[0;34m\u001b[0m\u001b[0m\n\u001b[0;32m--> 504\u001b[0;31m               ctx=ctx)\n\u001b[0m\u001b[1;32m    505\u001b[0m         \u001b[0;32melse\u001b[0m\u001b[0;34m:\u001b[0m\u001b[0;34m\u001b[0m\u001b[0;34m\u001b[0m\u001b[0m\n\u001b[1;32m    506\u001b[0m           outputs = execute.execute_with_cancellation(\n",
            "\u001b[0;32m/usr/local/lib/python3.7/dist-packages/tensorflow/python/eager/execute.py\u001b[0m in \u001b[0;36mquick_execute\u001b[0;34m(op_name, num_outputs, inputs, attrs, ctx, name)\u001b[0m\n\u001b[1;32m     53\u001b[0m     \u001b[0mctx\u001b[0m\u001b[0;34m.\u001b[0m\u001b[0mensure_initialized\u001b[0m\u001b[0;34m(\u001b[0m\u001b[0;34m)\u001b[0m\u001b[0;34m\u001b[0m\u001b[0;34m\u001b[0m\u001b[0m\n\u001b[1;32m     54\u001b[0m     tensors = pywrap_tfe.TFE_Py_Execute(ctx._handle, device_name, op_name,\n\u001b[0;32m---> 55\u001b[0;31m                                         inputs, attrs, num_outputs)\n\u001b[0m\u001b[1;32m     56\u001b[0m   \u001b[0;32mexcept\u001b[0m \u001b[0mcore\u001b[0m\u001b[0;34m.\u001b[0m\u001b[0m_NotOkStatusException\u001b[0m \u001b[0;32mas\u001b[0m \u001b[0me\u001b[0m\u001b[0;34m:\u001b[0m\u001b[0;34m\u001b[0m\u001b[0;34m\u001b[0m\u001b[0m\n\u001b[1;32m     57\u001b[0m     \u001b[0;32mif\u001b[0m \u001b[0mname\u001b[0m \u001b[0;32mis\u001b[0m \u001b[0;32mnot\u001b[0m \u001b[0;32mNone\u001b[0m\u001b[0;34m:\u001b[0m\u001b[0;34m\u001b[0m\u001b[0;34m\u001b[0m\u001b[0m\n",
            "\u001b[0;31mKeyboardInterrupt\u001b[0m: "
          ]
        }
      ]
    },
    {
      "cell_type": "code",
      "source": [
        "# on rajoute un layer mais on les met tous a 32 bits\n",
        "\n",
        "mnist_model2 = keras.Sequential(\n",
        "    [\n",
        "     # 28 car les images font 28*28 pixels, 1 car c'est en noir et blanc\n",
        "     keras.Input(shape = (28, 28, 1)),\n",
        "     layers.Conv2D(32, kernel_size=(3,3), activation=\"relu\"),\n",
        "     layers.MaxPool2D(pool_size=(2,2)),\n",
        "\n",
        "     # Destruction de 30% des neuronnes\n",
        "     layers.Dropout(0.3),\n",
        "     layers.Conv2D(32, kernel_size=(3,3), activation=\"relu\"),\n",
        "     layers.MaxPool2D(pool_size=(2,2)),\n",
        "\n",
        "     layers.Dropout(0.3),\n",
        "     layers.Conv2D(32, kernel_size=(3,3), activation=\"relu\"),\n",
        "     layers.MaxPool2D(pool_size=(2,2)),\n",
        "\n",
        "     # flatten transforme matrice en vecteur\n",
        "     layers.Flatten(),\n",
        "     # softmax permet de donner plus d'importance aux probas proches de 1 et de 0\n",
        "     layers.Dense(10, activation=\"softmax\")\n",
        "    ]\n",
        ")"
      ],
      "metadata": {
        "id": "cFaEJhHi8ghG"
      },
      "execution_count": null,
      "outputs": []
    },
    {
      "cell_type": "code",
      "source": [
        "mnist_model2.compile(loss=\"categorical_crossentropy\", optimizer=\"adam\", metrics=[\"accuracy\"])"
      ],
      "metadata": {
        "id": "XbL7A6bm9bI-"
      },
      "execution_count": null,
      "outputs": []
    },
    {
      "cell_type": "code",
      "source": [
        "# On remarque que ce modèle est moins performant que le premier\n",
        "\n",
        "history = mnist_model2.fit(x_train, y_train, batch_size=batch, callbacks = [learning_rate_scheduler, early_stopping], epochs=epochs, validation_split=0.15)"
      ],
      "metadata": {
        "colab": {
          "base_uri": "https://localhost:8080/"
        },
        "id": "atFtBgII-fXP",
        "outputId": "276f1386-467a-4d15-80ec-1cb39b1c770c"
      },
      "execution_count": null,
      "outputs": [
        {
          "output_type": "stream",
          "name": "stdout",
          "text": [
            "Epoch 1/100\n",
            "3188/3188 [==============================] - 20s 6ms/step - loss: 0.3464 - accuracy: 0.8890 - val_loss: 0.1086 - val_accuracy: 0.9681 - lr: 0.0010\n",
            "Epoch 2/100\n",
            "3188/3188 [==============================] - 19s 6ms/step - loss: 0.1442 - accuracy: 0.9552 - val_loss: 0.0766 - val_accuracy: 0.9782 - lr: 8.1873e-04\n",
            "Epoch 3/100\n",
            "3188/3188 [==============================] - 19s 6ms/step - loss: 0.1163 - accuracy: 0.9632 - val_loss: 0.0645 - val_accuracy: 0.9820 - lr: 6.7032e-04\n",
            "Epoch 4/100\n",
            "3188/3188 [==============================] - 20s 6ms/step - loss: 0.0996 - accuracy: 0.9695 - val_loss: 0.0600 - val_accuracy: 0.9839 - lr: 5.4881e-04\n",
            "Epoch 5/100\n",
            "3188/3188 [==============================] - 20s 6ms/step - loss: 0.0892 - accuracy: 0.9722 - val_loss: 0.0575 - val_accuracy: 0.9836 - lr: 4.4933e-04\n",
            "Epoch 6/100\n",
            "3188/3188 [==============================] - 23s 7ms/step - loss: 0.0810 - accuracy: 0.9744 - val_loss: 0.0536 - val_accuracy: 0.9849 - lr: 3.6788e-04\n",
            "Epoch 7/100\n",
            "3188/3188 [==============================] - 21s 7ms/step - loss: 0.0746 - accuracy: 0.9765 - val_loss: 0.0511 - val_accuracy: 0.9852 - lr: 3.0119e-04\n",
            "Epoch 8/100\n",
            "3188/3188 [==============================] - 19s 6ms/step - loss: 0.0718 - accuracy: 0.9774 - val_loss: 0.0475 - val_accuracy: 0.9863 - lr: 2.4660e-04\n",
            "Epoch 9/100\n",
            "3188/3188 [==============================] - 19s 6ms/step - loss: 0.0689 - accuracy: 0.9784 - val_loss: 0.0468 - val_accuracy: 0.9870 - lr: 2.0190e-04\n",
            "Epoch 10/100\n",
            "3188/3188 [==============================] - 18s 6ms/step - loss: 0.0667 - accuracy: 0.9789 - val_loss: 0.0447 - val_accuracy: 0.9876 - lr: 1.6530e-04\n",
            "Epoch 11/100\n",
            "3188/3188 [==============================] - 18s 6ms/step - loss: 0.0638 - accuracy: 0.9801 - val_loss: 0.0436 - val_accuracy: 0.9876 - lr: 1.3534e-04\n",
            "Epoch 12/100\n",
            "3188/3188 [==============================] - 19s 6ms/step - loss: 0.0598 - accuracy: 0.9808 - val_loss: 0.0434 - val_accuracy: 0.9880 - lr: 1.1080e-04\n",
            "Epoch 13/100\n",
            "3188/3188 [==============================] - 19s 6ms/step - loss: 0.0622 - accuracy: 0.9804 - val_loss: 0.0435 - val_accuracy: 0.9886 - lr: 9.0718e-05\n",
            "Epoch 14/100\n",
            "3188/3188 [==============================] - 18s 6ms/step - loss: 0.0588 - accuracy: 0.9814 - val_loss: 0.0445 - val_accuracy: 0.9883 - lr: 7.4274e-05\n",
            "Epoch 15/100\n",
            "3188/3188 [==============================] - 19s 6ms/step - loss: 0.0586 - accuracy: 0.9813 - val_loss: 0.0428 - val_accuracy: 0.9883 - lr: 6.0810e-05\n",
            "Epoch 16/100\n",
            "3188/3188 [==============================] - 19s 6ms/step - loss: 0.0596 - accuracy: 0.9807 - val_loss: 0.0425 - val_accuracy: 0.9887 - lr: 4.9787e-05\n",
            "Epoch 17/100\n",
            "3188/3188 [==============================] - 18s 6ms/step - loss: 0.0598 - accuracy: 0.9808 - val_loss: 0.0423 - val_accuracy: 0.9881 - lr: 4.0762e-05\n",
            "Epoch 18/100\n",
            "3188/3188 [==============================] - 18s 6ms/step - loss: 0.0578 - accuracy: 0.9816 - val_loss: 0.0425 - val_accuracy: 0.9880 - lr: 3.3373e-05\n",
            "Epoch 19/100\n",
            "3188/3188 [==============================] - 18s 6ms/step - loss: 0.0576 - accuracy: 0.9814 - val_loss: 0.0430 - val_accuracy: 0.9887 - lr: 2.7324e-05\n",
            "Epoch 20/100\n",
            "3188/3188 [==============================] - 18s 6ms/step - loss: 0.0564 - accuracy: 0.9817 - val_loss: 0.0419 - val_accuracy: 0.9879 - lr: 2.2371e-05\n",
            "Epoch 21/100\n",
            "3188/3188 [==============================] - 19s 6ms/step - loss: 0.0557 - accuracy: 0.9818 - val_loss: 0.0417 - val_accuracy: 0.9881 - lr: 1.8316e-05\n",
            "Epoch 22/100\n",
            "3188/3188 [==============================] - 18s 6ms/step - loss: 0.0554 - accuracy: 0.9814 - val_loss: 0.0419 - val_accuracy: 0.9883 - lr: 1.4996e-05\n",
            "Epoch 23/100\n",
            "3188/3188 [==============================] - 19s 6ms/step - loss: 0.0577 - accuracy: 0.9813 - val_loss: 0.0420 - val_accuracy: 0.9884 - lr: 1.2277e-05\n",
            "Epoch 24/100\n",
            "3188/3188 [==============================] - 18s 6ms/step - loss: 0.0564 - accuracy: 0.9822 - val_loss: 0.0419 - val_accuracy: 0.9882 - lr: 1.0052e-05\n"
          ]
        }
      ]
    },
    {
      "cell_type": "code",
      "source": [
        "mnist_model3 = keras.Sequential(\n",
        "    [\n",
        "     keras.Input(shape=(28,28,1)),\n",
        "     layers.Conv2D(64, kernel_size=(3,3), activation=\"relu\"),\n",
        "     layers.MaxPool2D(pool_size=(2,2)),\n",
        "\n",
        "     layers.Dropout(0.3),\n",
        "     layers.Conv2D(64, kernel_size=(3,3), activation=\"relu\"),\n",
        "     layers.MaxPool2D(pool_size=(2,2)),\n",
        "\n",
        "     layers.Flatten(),\n",
        "     layers.Dense(10, activation=\"softmax\"),\n",
        "    ]\n",
        ")"
      ],
      "metadata": {
        "id": "AOwGoj53-k3y"
      },
      "execution_count": null,
      "outputs": []
    },
    {
      "cell_type": "code",
      "source": [
        "mnist_model3.compile(loss=\"categorical_crossentropy\", optimizer=\"adam\", metrics=[\"accuracy\"])"
      ],
      "metadata": {
        "id": "GMcdA0AjA5kg"
      },
      "execution_count": null,
      "outputs": []
    },
    {
      "cell_type": "code",
      "source": [
        "history = mnist_model3.fit(x_train, y_train, batch_size=batch, callbacks = [learning_rate_scheduler, early_stopping], epochs=epochs, validation_split=0.15)"
      ],
      "metadata": {
        "colab": {
          "base_uri": "https://localhost:8080/"
        },
        "id": "cy5m9BlyBCpP",
        "outputId": "c5bfa4df-cdcb-4910-d461-721cdc9804da"
      },
      "execution_count": null,
      "outputs": [
        {
          "output_type": "stream",
          "name": "stdout",
          "text": [
            "Epoch 1/100\n",
            "3188/3188 [==============================] - 20s 6ms/step - loss: 0.1513 - accuracy: 0.9519 - val_loss: 0.0550 - val_accuracy: 0.9844 - lr: 0.0010\n",
            "Epoch 2/100\n",
            "3188/3188 [==============================] - 19s 6ms/step - loss: 0.0526 - accuracy: 0.9829 - val_loss: 0.0476 - val_accuracy: 0.9866 - lr: 8.1873e-04\n",
            "Epoch 3/100\n",
            "3188/3188 [==============================] - 19s 6ms/step - loss: 0.0382 - accuracy: 0.9878 - val_loss: 0.0373 - val_accuracy: 0.9896 - lr: 6.7032e-04\n",
            "Epoch 4/100\n",
            "3188/3188 [==============================] - 19s 6ms/step - loss: 0.0273 - accuracy: 0.9913 - val_loss: 0.0361 - val_accuracy: 0.9899 - lr: 5.4881e-04\n",
            "Epoch 5/100\n",
            "3188/3188 [==============================] - 20s 6ms/step - loss: 0.0213 - accuracy: 0.9935 - val_loss: 0.0335 - val_accuracy: 0.9909 - lr: 4.4933e-04\n",
            "Epoch 6/100\n",
            "3188/3188 [==============================] - 20s 6ms/step - loss: 0.0164 - accuracy: 0.9947 - val_loss: 0.0381 - val_accuracy: 0.9902 - lr: 3.6788e-04\n",
            "Epoch 7/100\n",
            "3188/3188 [==============================] - 20s 6ms/step - loss: 0.0129 - accuracy: 0.9959 - val_loss: 0.0361 - val_accuracy: 0.9909 - lr: 3.0119e-04\n",
            "Epoch 8/100\n",
            "3188/3188 [==============================] - 19s 6ms/step - loss: 0.0102 - accuracy: 0.9966 - val_loss: 0.0341 - val_accuracy: 0.9913 - lr: 2.4660e-04\n"
          ]
        }
      ]
    }
  ]
}